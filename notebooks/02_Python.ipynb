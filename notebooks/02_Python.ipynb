{
  "nbformat": 4,
  "nbformat_minor": 0,
  "metadata": {
    "colab": {
      "name": "02_Python.ipynb",
      "provenance": [],
      "collapsed_sections": []
    },
    "kernelspec": {
      "name": "python3",
      "display_name": "Python 3"
    }
  },
  "cells": [
    {
      "cell_type": "markdown",
      "metadata": {
        "id": "D-ndUm1CvVEZ"
      },
      "source": [
        "<div align=\"center\">\n",
        "<h1><img width=\"30\" src=\"https://madewithml.com/static/images/rounded_logo.png\">&nbsp;<a href=\"https://madewithml.com/\">Made With ML</a></h1>\n",
        "Applied ML · MLOps · Production\n",
        "<br>\n",
        "Join 30K+ developers in learning how to responsibly <a href=\"https://madewithml.com/about/\">deliver value</a> with ML.\n",
        "    <br>\n",
        "</div>\n",
        "\n",
        "<br>\n",
        "\n",
        "<div align=\"center\">\n",
        "    <a target=\"_blank\" href=\"https://newsletter.madewithml.com\"><img src=\"https://img.shields.io/badge/Subscribe-30K-brightgreen\"></a>&nbsp;\n",
        "    <a target=\"_blank\" href=\"https://github.com/GokuMohandas/MadeWithML\"><img src=\"https://img.shields.io/github/stars/GokuMohandas/MadeWithML.svg?style=social&label=Star\"></a>&nbsp;\n",
        "    <a target=\"_blank\" href=\"https://www.linkedin.com/in/goku\"><img src=\"https://img.shields.io/badge/style--5eba00.svg?label=LinkedIn&logo=linkedin&style=social\"></a>&nbsp;\n",
        "    <a target=\"_blank\" href=\"https://twitter.com/GokuMohandas\"><img src=\"https://img.shields.io/twitter/follow/GokuMohandas.svg?label=Follow&style=social\"></a>\n",
        "    <br>\n",
        "    🔥&nbsp; Among the <a href=\"https://github.com/topics/deep-learning\" target=\"_blank\">top ML</a> repositories on GitHub\n",
        "</div>\n",
        "\n",
        "<br>\n",
        "<hr>"
      ]
    },
    {
      "cell_type": "markdown",
      "metadata": {
        "id": "pY8iWjayaC22"
      },
      "source": [
        "# Python\n",
        "\n",
        "In this lessons, we'll learn about the basics of Python programmming. "
      ]
    },
    {
      "cell_type": "markdown",
      "metadata": {
        "id": "gN-UI0ZUd0Xt"
      },
      "source": [
        "<div align=\"left\">\n",
        "<a target=\"_blank\" href=\"https://madewithml.com/courses/foundations/python/\"><img src=\"https://img.shields.io/badge/📖 Read-blog post-9cf\"></a>&nbsp;\n",
        "<a href=\"https://github.com/GokuMohandas/MadeWithML/blob/main/notebooks/02_Python.ipynb\" role=\"button\"><img src=\"https://img.shields.io/static/v1?label=&amp;message=View%20On%20GitHub&amp;color=586069&amp;logo=github&amp;labelColor=2f363d\"></a>&nbsp;\n",
        "<a href=\"https://colab.research.google.com/github/GokuMohandas/MadeWithML/blob/main/notebooks/02_Python.ipynb\"><img src=\"https://colab.research.google.com/assets/colab-badge.svg\" alt=\"Open In Colab\"></a>\n",
        "</div>"
      ]
    },
    {
      "cell_type": "markdown",
      "metadata": {
        "id": "VoMq0eFRvugb"
      },
      "source": [
        "#  Variables"
      ]
    },
    {
      "cell_type": "markdown",
      "metadata": {
        "id": "qWro5T5qTJJL"
      },
      "source": [
        "Variables are containers for holding data and they're defined by a name and value.\n",
        "\n",
        "<div align=\"left\">\n",
        "<img src=\"https://raw.githubusercontent.com/GokuMohandas/MadeWithML/main/images/foundations/python/variables.png\" width=\"220\">\n",
        "</div>"
      ]
    },
    {
      "cell_type": "code",
      "metadata": {
        "id": "0-dXQiLlTIgz",
        "colab": {
          "base_uri": "https://localhost:8080/"
        },
        "outputId": "18716c05-f834-4269-8be1-129f2f467493"
      },
      "source": [
        "# Integer variable\n",
        "x = 5\n",
        "print (x)\n",
        "print (type(x))\n"
      ],
      "execution_count": 1,
      "outputs": [
        {
          "output_type": "stream",
          "name": "stdout",
          "text": [
            "5\n",
            "<class 'int'>\n"
          ]
        }
      ]
    },
    {
      "cell_type": "markdown",
      "metadata": {
        "id": "LDAdgPSCyMbN"
      },
      "source": [
        "We can change the value of a variable by simply assigning a new value to it."
      ]
    },
    {
      "cell_type": "code",
      "metadata": {
        "id": "5Ym0owFxTkjo",
        "colab": {
          "base_uri": "https://localhost:8080/"
        },
        "outputId": "b68f8e62-8431-4b81-d1ed-f1308c79ddf0"
      },
      "source": [
        "# String variable\n",
        "x = \"hello\"\n",
        "print (x)\n",
        "print (type(x))"
      ],
      "execution_count": 2,
      "outputs": [
        {
          "output_type": "stream",
          "name": "stdout",
          "text": [
            "hello\n",
            "<class 'str'>\n"
          ]
        }
      ]
    },
    {
      "cell_type": "markdown",
      "metadata": {
        "id": "Lsq_c_AhEzZN"
      },
      "source": [
        "There are many different types of variables: integers, floats, strings, boolean etc."
      ]
    },
    {
      "cell_type": "code",
      "metadata": {
        "id": "m4kAmbD9EzHz",
        "colab": {
          "base_uri": "https://localhost:8080/"
        },
        "outputId": "9549fa0a-0e6a-48ff-a6a3-fdb2a7a00959"
      },
      "source": [
        "# int variable\n",
        "x = 5\n",
        "print (x, type(x))"
      ],
      "execution_count": 3,
      "outputs": [
        {
          "output_type": "stream",
          "name": "stdout",
          "text": [
            "5 <class 'int'>\n"
          ]
        }
      ]
    },
    {
      "cell_type": "code",
      "metadata": {
        "id": "gb9BzIoOEy6A",
        "colab": {
          "base_uri": "https://localhost:8080/"
        },
        "outputId": "64d20c5d-bfc4-4565-a80a-efe313d909be"
      },
      "source": [
        "# float variable\n",
        "x = 5.0\n",
        "print (x, type(x))"
      ],
      "execution_count": 4,
      "outputs": [
        {
          "output_type": "stream",
          "name": "stdout",
          "text": [
            "5.0 <class 'float'>\n"
          ]
        }
      ]
    },
    {
      "cell_type": "code",
      "metadata": {
        "id": "RkqP-eraEytN",
        "colab": {
          "base_uri": "https://localhost:8080/"
        },
        "outputId": "cd1506b4-32a5-43cb-91fb-4d19d58a9abd"
      },
      "source": [
        "# text variable\n",
        "x = \"5\" \n",
        "print (x, type(x))"
      ],
      "execution_count": 5,
      "outputs": [
        {
          "output_type": "stream",
          "name": "stdout",
          "text": [
            "5 <class 'str'>\n"
          ]
        }
      ]
    },
    {
      "cell_type": "code",
      "metadata": {
        "id": "ws4HSsJpEyfL",
        "colab": {
          "base_uri": "https://localhost:8080/"
        },
        "outputId": "d3b35cab-b633-4e30-9d9a-6fc29b21fa0e"
      },
      "source": [
        "# boolean variable\n",
        "x = True\n",
        "print (x, type(x))"
      ],
      "execution_count": 6,
      "outputs": [
        {
          "output_type": "stream",
          "name": "stdout",
          "text": [
            "True <class 'bool'>\n"
          ]
        }
      ]
    },
    {
      "cell_type": "markdown",
      "metadata": {
        "id": "EWOmrbiDybhF"
      },
      "source": [
        "We can also do operations with variables."
      ]
    },
    {
      "cell_type": "code",
      "metadata": {
        "id": "1a4ZhMV1T1-0",
        "colab": {
          "base_uri": "https://localhost:8080/"
        },
        "outputId": "680dd821-fe35-4b22-f982-96b513171007"
      },
      "source": [
        "# Variables can be used with each other\n",
        "a = 1\n",
        "b = 2\n",
        "c = a + b\n",
        "print (c)"
      ],
      "execution_count": 7,
      "outputs": [
        {
          "output_type": "stream",
          "name": "stdout",
          "text": [
            "3\n"
          ]
        }
      ]
    },
    {
      "cell_type": "markdown",
      "metadata": {
        "id": "6HPtavfdU8Ut"
      },
      "source": [
        "We should always know what types of variables we're dealing with so we can do the right operations with them. Here's a common mistake that can happen if we're using the wrong variable type."
      ]
    },
    {
      "cell_type": "code",
      "metadata": {
        "id": "8pr1-i7IVD-h",
        "colab": {
          "base_uri": "https://localhost:8080/"
        },
        "outputId": "b3166cc2-32c2-4fbc-eeb3-2cee7cde0cba"
      },
      "source": [
        "# int variables\n",
        "a = 5\n",
        "b = 3\n",
        "print (a + b)"
      ],
      "execution_count": 8,
      "outputs": [
        {
          "output_type": "stream",
          "name": "stdout",
          "text": [
            "8\n"
          ]
        }
      ]
    },
    {
      "cell_type": "code",
      "metadata": {
        "id": "A9u0Mtke5xkk",
        "colab": {
          "base_uri": "https://localhost:8080/"
        },
        "outputId": "0cc8bcd5-3608-4467-897f-af583ba07ce8"
      },
      "source": [
        "# string variables\n",
        "a = \"5\"\n",
        "b = \"3\"\n",
        "print (a + b)"
      ],
      "execution_count": 9,
      "outputs": [
        {
          "output_type": "stream",
          "name": "stdout",
          "text": [
            "53\n"
          ]
        }
      ]
    },
    {
      "cell_type": "markdown",
      "metadata": {
        "id": "q4R_UF6PVw4V"
      },
      "source": [
        "#  Lists"
      ]
    },
    {
      "cell_type": "markdown",
      "metadata": {
        "id": "LvGsQBj4VjMl"
      },
      "source": [
        "Lists are an ordered, mutable (changeable) collection of values that are *comma separated* and enclosed by *square brackets*. A list can be comprised of many different types of variables (below is a list with an integer, string and a float)."
      ]
    },
    {
      "cell_type": "code",
      "metadata": {
        "id": "9iPESkq9VvlX",
        "colab": {
          "base_uri": "https://localhost:8080/"
        },
        "outputId": "752218e2-48d5-442b-c775-8b49d368a14c"
      },
      "source": [
        "# Creating a list\n",
        "x = [3, \"hello\", 1.2]\n",
        "print (x)"
      ],
      "execution_count": 10,
      "outputs": [
        {
          "output_type": "stream",
          "name": "stdout",
          "text": [
            "[3, 'hello', 1.2]\n"
          ]
        }
      ]
    },
    {
      "cell_type": "code",
      "metadata": {
        "id": "esDwOfutKtBf",
        "colab": {
          "base_uri": "https://localhost:8080/"
        },
        "outputId": "035433af-5e88-4d7d-aaf9-79d67a8d1f08"
      },
      "source": [
        "# Length of a list\n",
        "len(x)"
      ],
      "execution_count": 11,
      "outputs": [
        {
          "output_type": "execute_result",
          "data": {
            "text/plain": [
              "3"
            ]
          },
          "metadata": {},
          "execution_count": 11
        }
      ]
    },
    {
      "cell_type": "markdown",
      "metadata": {
        "id": "0xC6WvuwbGDg"
      },
      "source": [
        "You can add to a list by using the **append** function."
      ]
    },
    {
      "cell_type": "code",
      "metadata": {
        "id": "7lbajc-zV515",
        "colab": {
          "base_uri": "https://localhost:8080/"
        },
        "outputId": "9dad204e-4ca9-40c7-89fe-187670aa21e9"
      },
      "source": [
        "# Adding to a list\n",
        "x.append(7)\n",
        "print (x)\n",
        "print (len(x))"
      ],
      "execution_count": 12,
      "outputs": [
        {
          "output_type": "stream",
          "name": "stdout",
          "text": [
            "[3, 'hello', 1.2, 7]\n",
            "4\n"
          ]
        }
      ]
    },
    {
      "cell_type": "code",
      "metadata": {
        "id": "TjVjmiSIK1YA",
        "colab": {
          "base_uri": "https://localhost:8080/"
        },
        "outputId": "a3666d3e-7528-4adb-ab8e-df8584b9e696"
      },
      "source": [
        "# Replacing items in a list\n",
        "x[1] = \"bye\"\n",
        "print (x)"
      ],
      "execution_count": 13,
      "outputs": [
        {
          "output_type": "stream",
          "name": "stdout",
          "text": [
            "[3, 'bye', 1.2, 7]\n"
          ]
        }
      ]
    },
    {
      "cell_type": "code",
      "metadata": {
        "id": "tNLaysG6K6E9",
        "colab": {
          "base_uri": "https://localhost:8080/"
        },
        "outputId": "47794a3f-d6dc-4850-a7e9-543e1dc607f5"
      },
      "source": [
        "# Operations\n",
        "y = [2.4, \"world\"]\n",
        "z = x + y\n",
        "print (z)"
      ],
      "execution_count": 14,
      "outputs": [
        {
          "output_type": "stream",
          "name": "stdout",
          "text": [
            "[3, 'bye', 1.2, 7, 2.4, 'world']\n"
          ]
        }
      ]
    },
    {
      "cell_type": "markdown",
      "metadata": {
        "id": "ddpIO6LLVzh0"
      },
      "source": [
        "# Tuples"
      ]
    },
    {
      "cell_type": "markdown",
      "metadata": {
        "id": "CAZblq7oXY3s"
      },
      "source": [
        "Tuples are collections that are ordered and immutable (unchangeable). You will use these to store values that will never be changed."
      ]
    },
    {
      "cell_type": "code",
      "metadata": {
        "id": "G95lu8xWXY90",
        "colab": {
          "base_uri": "https://localhost:8080/"
        },
        "outputId": "867254f5-3ba8-4c90-e4c5-3941dadb8c1c"
      },
      "source": [
        "# Creating a tuple\n",
        "x = (3.0, \"hello\") # tuples start and end with ()\n",
        "print (x)"
      ],
      "execution_count": 15,
      "outputs": [
        {
          "output_type": "stream",
          "name": "stdout",
          "text": [
            "(3.0, 'hello')\n"
          ]
        }
      ]
    },
    {
      "cell_type": "code",
      "metadata": {
        "id": "kq23Bej1acAP",
        "colab": {
          "base_uri": "https://localhost:8080/"
        },
        "outputId": "27e146ff-83c9-4f92-a4df-488814f8c144"
      },
      "source": [
        "# Adding values to a tuple\n",
        "x = x + (5.6, 4)\n",
        "print (x)"
      ],
      "execution_count": 16,
      "outputs": [
        {
          "output_type": "stream",
          "name": "stdout",
          "text": [
            "(3.0, 'hello', 5.6, 4)\n"
          ]
        }
      ]
    },
    {
      "cell_type": "code",
      "metadata": {
        "id": "-o-tW98FLffc"
      },
      "source": [
        "# Try to change (it won't work and we get an error)\n",
        "# x[0] = 1.2"
      ],
      "execution_count": null,
      "outputs": []
    },
    {
      "cell_type": "markdown",
      "metadata": {
        "id": "FWFfVUjmfOoS"
      },
      "source": [
        "# Sets"
      ]
    },
    {
      "cell_type": "markdown",
      "metadata": {
        "id": "hqRA6UHufQnV"
      },
      "source": [
        "Sets are collections that are unordered and mutable. However, every item in a set much be unique."
      ]
    },
    {
      "cell_type": "code",
      "metadata": {
        "colab": {
          "base_uri": "https://localhost:8080/"
        },
        "id": "ZOtPxlMzfQEL",
        "outputId": "93dd6542-8393-4ebd-916f-b38eeb11fae3"
      },
      "source": [
        "# Sets\n",
        "text = \"Learn ML with Made With ML\"\n",
        "print (set(text))\n",
        "print (set(text.split(\" \")))"
      ],
      "execution_count": 17,
      "outputs": [
        {
          "output_type": "stream",
          "name": "stdout",
          "text": [
            "{' ', 'i', 'h', 'w', 'r', 'a', 'L', 'e', 'd', 'M', 'n', 'W', 't'}\n",
            "{'Made', 'with', 'Learn', 'ML', 'With'}\n"
          ]
        }
      ]
    },
    {
      "cell_type": "markdown",
      "metadata": {
        "id": "M7mQpE7dtpX6"
      },
      "source": [
        "# Indexing and Slicing"
      ]
    },
    {
      "cell_type": "markdown",
      "metadata": {
        "id": "wJqJM2Q13TwE"
      },
      "source": [
        "Indexing and slicing allow us to retrieve specific values. Note that indices can be positive (starting from 0) or negative (-1 and lower, where -1 is the last item).\n",
        "\n",
        "<div align=\"left\">\n",
        "<img src=\"https://raw.githubusercontent.com/GokuMohandas/MadeWithML/main/images/foundations/python/indexing.png\" width=\"300\">\n",
        "</div>"
      ]
    },
    {
      "cell_type": "code",
      "metadata": {
        "id": "W0xpIryJWCN9",
        "colab": {
          "base_uri": "https://localhost:8080/"
        },
        "outputId": "6b883f41-5045-456f-fef1-2dab9a630624"
      },
      "source": [
        "# Indexing\n",
        "x = [3, \"hello\", 1.2]\n",
        "print (\"x[0]: \", x[0])\n",
        "print (\"x[1]: \", x[1])\n",
        "print (\"x[-1]: \", x[-1]) # the last item\n",
        "print (\"x[-2]: \", x[-2]) # the second to last item"
      ],
      "execution_count": 18,
      "outputs": [
        {
          "output_type": "stream",
          "name": "stdout",
          "text": [
            "x[0]:  3\n",
            "x[1]:  hello\n",
            "x[-1]:  1.2\n",
            "x[-2]:  hello\n"
          ]
        }
      ]
    },
    {
      "cell_type": "code",
      "metadata": {
        "id": "VSu_HNrnc1WK",
        "colab": {
          "base_uri": "https://localhost:8080/"
        },
        "outputId": "2400abd0-586f-4d5b-cffa-bf8d444aeacf"
      },
      "source": [
        "# Slicing\n",
        "print (\"x[:]: \", x[:]) # all indices\n",
        "print (\"x[1:]: \", x[1:]) # index 1 to the end of the list\n",
        "print (\"x[1:2]: \", x[1:2]) # index 1 to index 2 (not including index 2)\n",
        "print (\"x[:-1]: \", x[:-1]) # index 0 to last index (not including last index)"
      ],
      "execution_count": 19,
      "outputs": [
        {
          "output_type": "stream",
          "name": "stdout",
          "text": [
            "x[:]:  [3, 'hello', 1.2]\n",
            "x[1:]:  ['hello', 1.2]\n",
            "x[1:2]:  ['hello']\n",
            "x[:-1]:  [3, 'hello']\n"
          ]
        }
      ]
    },
    {
      "cell_type": "code",
      "metadata": {
        "colab": {
          "base_uri": "https://localhost:8080/"
        },
        "id": "l47IYnoLaOGi",
        "outputId": "172a3fdd-e56f-43c4-8f8d-a2f943fc6a9b"
      },
      "source": [
        "# Indexing beyond length\n",
        "print (x[:100])\n",
        "print (len(x[:100]))"
      ],
      "execution_count": 20,
      "outputs": [
        {
          "output_type": "stream",
          "name": "stdout",
          "text": [
            "[3, 'hello', 1.2]\n",
            "3\n"
          ]
        }
      ]
    },
    {
      "cell_type": "markdown",
      "metadata": {
        "id": "UdlJHkwZV3Mz"
      },
      "source": [
        "# Dictionaries"
      ]
    },
    {
      "cell_type": "markdown",
      "metadata": {
        "id": "azp3AoxYXS26"
      },
      "source": [
        "Dictionaries are an unordered, mutable and indexed collection of key-value pairs. You can retrieve values based on the key and a dictionary cannot have two of the same keys. \n",
        "\n",
        "<div align=\"left\">\n",
        "<img src=\"https://raw.githubusercontent.com/GokuMohandas/MadeWithML/main/images/foundations/python/dictionaries.png\" width=\"320\">\n",
        "</div>"
      ]
    },
    {
      "cell_type": "code",
      "metadata": {
        "id": "pXhNLbzpXXSk",
        "colab": {
          "base_uri": "https://localhost:8080/"
        },
        "outputId": "e6ab90a2-59d6-477b-ba11-a0d54c781c63"
      },
      "source": [
        "# Creating a dictionary\n",
        "person = {\"name\": \"Goku\",\n",
        "          \"eye_color\": \"brown\"}\n",
        "print (person)\n",
        "print (person[\"name\"])\n",
        "print (person[\"eye_color\"])"
      ],
      "execution_count": 21,
      "outputs": [
        {
          "output_type": "stream",
          "name": "stdout",
          "text": [
            "{'name': 'Goku', 'eye_color': 'brown'}\n",
            "Goku\n",
            "brown\n"
          ]
        }
      ]
    },
    {
      "cell_type": "code",
      "metadata": {
        "id": "1HXtX8vQYjXa",
        "colab": {
          "base_uri": "https://localhost:8080/"
        },
        "outputId": "9e782b3b-e842-4fe6-8ed1-7c2ff843e4a4"
      },
      "source": [
        "# Changing the value for a key\n",
        "person[\"eye_color\"] = \"green\"\n",
        "print (person)"
      ],
      "execution_count": 22,
      "outputs": [
        {
          "output_type": "stream",
          "name": "stdout",
          "text": [
            "{'name': 'Goku', 'eye_color': 'green'}\n"
          ]
        }
      ]
    },
    {
      "cell_type": "code",
      "metadata": {
        "id": "qn33iB0MY5dT",
        "colab": {
          "base_uri": "https://localhost:8080/"
        },
        "outputId": "7ed5df71-c5d1-4d5f-a5ef-71c682640072"
      },
      "source": [
        "# Adding new key-value pairs\n",
        "person[\"age\"] = 24\n",
        "print (person)"
      ],
      "execution_count": 23,
      "outputs": [
        {
          "output_type": "stream",
          "name": "stdout",
          "text": [
            "{'name': 'Goku', 'eye_color': 'green', 'age': 24}\n"
          ]
        }
      ]
    },
    {
      "cell_type": "code",
      "metadata": {
        "id": "g9EYmzMKa9YV",
        "colab": {
          "base_uri": "https://localhost:8080/"
        },
        "outputId": "88a07bd5-cdd5-4998-84e1-d5003fe68431"
      },
      "source": [
        "# Length of a dictionary\n",
        "print (len(person))"
      ],
      "execution_count": 24,
      "outputs": [
        {
          "output_type": "stream",
          "name": "stdout",
          "text": [
            "3\n"
          ]
        }
      ]
    },
    {
      "cell_type": "markdown",
      "metadata": {
        "id": "kuit19F4kDkL"
      },
      "source": [
        "The similarities and differences of the foundational data structures we've seen so far.\n",
        "\n",
        "|       | Mutable | Ordered | Indexable | Unique |\n",
        "        |-------|---------|---------|-----------|--------|\n",
        "        | List  | ✅       | ✅       | ✅         | ❌      |\n",
        "        | Tuple | ❌       | ✅       | ✅         | ❌      |\n",
        "        | Set   | ✅       | ❌       | ❌         | ✅      |\n",
        "        | Dictionary   | ✅        | ❌       | ❌         | ✅ &nbsp;keys<br>❌ &nbsp;values      |\n",
        "       "
      ]
    },
    {
      "cell_type": "markdown",
      "metadata": {
        "id": "PNZYdRJTk2wy"
      },
      "source": [
        "But of course, there is pretty much a way to do accomplish anything with Python. For example, even though native dictionaries are unordered, we can leverage the [OrderedDict](https://docs.python.org/3/library/collections.html) data structure to change that (useful if we want to iterate through keys in a certain order, etc.)."
      ]
    },
    {
      "cell_type": "code",
      "metadata": {
        "id": "SmvDsTYakzQC"
      },
      "source": [
        "from collections import OrderedDict"
      ],
      "execution_count": 25,
      "outputs": []
    },
    {
      "cell_type": "code",
      "metadata": {
        "colab": {
          "base_uri": "https://localhost:8080/"
        },
        "id": "BMQpaMmpkzTp",
        "outputId": "916bb900-24c2-404d-e5c4-1206fbc2d2b1"
      },
      "source": [
        "# Native dict\n",
        "d = {}\n",
        "d[\"a\"] = 2\n",
        "d[\"c\"] = 3\n",
        "d[\"b\"] = 1\n",
        "print (d)"
      ],
      "execution_count": 26,
      "outputs": [
        {
          "output_type": "stream",
          "name": "stdout",
          "text": [
            "{'a': 2, 'c': 3, 'b': 1}\n"
          ]
        }
      ]
    },
    {
      "cell_type": "markdown",
      "metadata": {
        "id": "5ZfVq15sl8d1"
      },
      "source": [
        "> After Python 3.7+, native dictionaries are insertion ordered."
      ]
    },
    {
      "cell_type": "code",
      "metadata": {
        "colab": {
          "base_uri": "https://localhost:8080/"
        },
        "id": "K0mzpuxOmr3g",
        "outputId": "866a05b8-f803-4115-93aa-0c2f3b0fae49"
      },
      "source": [
        "# Dictionary items\n",
        "print (d.items())"
      ],
      "execution_count": 27,
      "outputs": [
        {
          "output_type": "stream",
          "name": "stdout",
          "text": [
            "dict_items([('a', 2), ('c', 3), ('b', 1)])\n"
          ]
        }
      ]
    },
    {
      "cell_type": "code",
      "metadata": {
        "colab": {
          "base_uri": "https://localhost:8080/"
        },
        "id": "ahIKOBp0mCmH",
        "outputId": "6662465a-3d18-4a69-bd6e-264526610b3e"
      },
      "source": [
        "# Order by keys\n",
        "print (OrderedDict(sorted(d.items())))"
      ],
      "execution_count": 28,
      "outputs": [
        {
          "output_type": "stream",
          "name": "stdout",
          "text": [
            "OrderedDict([('a', 2), ('b', 1), ('c', 3)])\n"
          ]
        }
      ]
    },
    {
      "cell_type": "code",
      "metadata": {
        "colab": {
          "base_uri": "https://localhost:8080/"
        },
        "id": "Jox7oy0smCuo",
        "outputId": "fb0b93e6-8ebe-467c-dfa4-4c78ca8d5094"
      },
      "source": [
        "# Order by values\n",
        "print (OrderedDict(sorted(d.items(), key=lambda x: x[1])))"
      ],
      "execution_count": 29,
      "outputs": [
        {
          "output_type": "stream",
          "name": "stdout",
          "text": [
            "OrderedDict([('b', 1), ('a', 2), ('c', 3)])\n"
          ]
        }
      ]
    },
    {
      "cell_type": "markdown",
      "metadata": {
        "id": "B-DInx_Xo2vJ"
      },
      "source": [
        "# If statements"
      ]
    },
    {
      "cell_type": "markdown",
      "metadata": {
        "id": "ZG_ICGRGo4tY"
      },
      "source": [
        "We can use `if` statements to conditionally do something. The conditions are defined by the words `if`, `elif` (which stands for else if) and `else`. We can have as many `elif` statements as we want. The indented code below each condition is the code that will execute if the condition is `True`."
      ]
    },
    {
      "cell_type": "code",
      "metadata": {
        "id": "uob9lQuKo4Pg",
        "colab": {
          "base_uri": "https://localhost:8080/"
        },
        "outputId": "645d2be5-db62-45ca-fe48-902989511d34"
      },
      "source": [
        "# If statement\n",
        "x = 4\n",
        "if x < 1:\n",
        "    score = \"low\"\n",
        "elif x <= 4: # elif = else if\n",
        "    score = \"medium\"\n",
        "else:\n",
        "    score = \"high\"\n",
        "print (score)"
      ],
      "execution_count": 30,
      "outputs": [
        {
          "output_type": "stream",
          "name": "stdout",
          "text": [
            "medium\n"
          ]
        }
      ]
    },
    {
      "cell_type": "code",
      "metadata": {
        "id": "vwsQaZqIpfJ3",
        "colab": {
          "base_uri": "https://localhost:8080/"
        },
        "outputId": "bb421488-8169-49ab-e779-84b6f85fb7c9"
      },
      "source": [
        "# If statement with a boolean\n",
        "x = True\n",
        "if x:\n",
        "    print (\"it worked\")"
      ],
      "execution_count": 31,
      "outputs": [
        {
          "output_type": "stream",
          "name": "stdout",
          "text": [
            "it worked\n"
          ]
        }
      ]
    },
    {
      "cell_type": "markdown",
      "metadata": {
        "id": "sJ7NPGEKV6Ik"
      },
      "source": [
        "# Loops"
      ]
    },
    {
      "cell_type": "markdown",
      "metadata": {
        "id": "cRgqRyfITuEC"
      },
      "source": [
        "### For Loops"
      ]
    },
    {
      "cell_type": "markdown",
      "metadata": {
        "id": "YRVxhVCkn0vc"
      },
      "source": [
        "A `for` loop can iterate over a collection of values (lists, tuples, dictionaries, etc.) The indented code is executed for each item in the collection of values."
      ]
    },
    {
      "cell_type": "code",
      "metadata": {
        "id": "OB5PtyqAn8mj",
        "colab": {
          "base_uri": "https://localhost:8080/"
        },
        "outputId": "4d386c10-02a0-4749-cd59-9cad4368bee0"
      },
      "source": [
        "# For loop\n",
        "veggies = [\"carrots\", \"broccoli\", \"beans\"]\n",
        "for veggie in veggies:\n",
        "    print (veggie)"
      ],
      "execution_count": 32,
      "outputs": [
        {
          "output_type": "stream",
          "name": "stdout",
          "text": [
            "carrots\n",
            "broccoli\n",
            "beans\n"
          ]
        }
      ]
    },
    {
      "cell_type": "markdown",
      "metadata": {
        "id": "PQc56LtEDuX2"
      },
      "source": [
        "When the loop encounters the `break` command, the loop will terminate immediately. If there were more items in the list, they will not be processed."
      ]
    },
    {
      "cell_type": "code",
      "metadata": {
        "id": "6XyhCrFeoGj4",
        "colab": {
          "base_uri": "https://localhost:8080/"
        },
        "outputId": "add9a624-807a-4aba-9a6e-bfc67b3842e1"
      },
      "source": [
        "# `break` from a for loop\n",
        "veggies = [\"carrots\", \"broccoli\", \"beans\"]\n",
        "for veggie in veggies:\n",
        "    if veggie == \"broccoli\":\n",
        "        break\n",
        "    print (veggie)"
      ],
      "execution_count": 33,
      "outputs": [
        {
          "output_type": "stream",
          "name": "stdout",
          "text": [
            "carrots\n"
          ]
        }
      ]
    },
    {
      "cell_type": "markdown",
      "metadata": {
        "id": "O_0-vSSuEAqU"
      },
      "source": [
        "When the loop encounters the `continue` command, the loop will skip all other operations for that item in the list only. If there were more items in the list, the loop will continue normally."
      ]
    },
    {
      "cell_type": "code",
      "metadata": {
        "id": "KJvlfYs8QbQZ",
        "colab": {
          "base_uri": "https://localhost:8080/"
        },
        "outputId": "a6ccca77-4890-4e0e-f217-a451dba5342d"
      },
      "source": [
        "# `continue` to the next iteration\n",
        "veggies = [\"carrots\", \"broccoli\", \"beans\"]\n",
        "for veggie in veggies:\n",
        "    if veggie == \"broccoli\":\n",
        "        continue\n",
        "    print (veggie)"
      ],
      "execution_count": 34,
      "outputs": [
        {
          "output_type": "stream",
          "name": "stdout",
          "text": [
            "carrots\n",
            "beans\n"
          ]
        }
      ]
    },
    {
      "cell_type": "markdown",
      "metadata": {
        "id": "VAbnASi2TwZ9"
      },
      "source": [
        "### While Loops"
      ]
    },
    {
      "cell_type": "markdown",
      "metadata": {
        "id": "nuHAyQdr_jUa"
      },
      "source": [
        "A `while` loop can perform repeatedly as long as a condition is `True`. We can use `continue` and `break` commands in `while` loops as well."
      ]
    },
    {
      "cell_type": "code",
      "metadata": {
        "id": "5Tf2x4okp3fH",
        "colab": {
          "base_uri": "https://localhost:8080/"
        },
        "outputId": "c35d0b43-4dee-4da0-9db1-8216862dcded"
      },
      "source": [
        "# While loop\n",
        "x = 3\n",
        "while x > 0:\n",
        "    x -= 1 # same as x = x - 1\n",
        "    print (x)"
      ],
      "execution_count": 35,
      "outputs": [
        {
          "output_type": "stream",
          "name": "stdout",
          "text": [
            "2\n",
            "1\n",
            "0\n"
          ]
        }
      ]
    },
    {
      "cell_type": "markdown",
      "metadata": {
        "id": "4Ku6BGnnoXxW"
      },
      "source": [
        "# List comprehension"
      ]
    },
    {
      "cell_type": "markdown",
      "metadata": {
        "id": "VebDucj8oZae"
      },
      "source": [
        "We can combine our knowledge of lists and for loops to leverage list comprehensions to create succinct code."
      ]
    },
    {
      "cell_type": "code",
      "metadata": {
        "colab": {
          "base_uri": "https://localhost:8080/"
        },
        "id": "5wZY1Pt_orEu",
        "outputId": "2a20f0a6-9925-4012-b882-377e306ae40c"
      },
      "source": [
        "# For loop\n",
        "x = [1, 2, 3, 4, 5]\n",
        "y = []\n",
        "for item in x:\n",
        "    if item > 2:\n",
        "        y.append(item)\n",
        "print (y)"
      ],
      "execution_count": 36,
      "outputs": [
        {
          "output_type": "stream",
          "name": "stdout",
          "text": [
            "[3, 4, 5]\n"
          ]
        }
      ]
    },
    {
      "cell_type": "markdown",
      "metadata": {
        "id": "DNGRa7ofwoZj"
      },
      "source": [
        "<div align=\"left\">\n",
        "<img src=\"https://raw.githubusercontent.com/GokuMohandas/MadeWithML/main/images/foundations/python/comprehension.png\" width=\"320\">\n",
        "</div>"
      ]
    },
    {
      "cell_type": "code",
      "metadata": {
        "colab": {
          "base_uri": "https://localhost:8080/"
        },
        "id": "TuRUDixEo1Z4",
        "outputId": "aa12a71d-dd76-4e77-d768-7e3e74219751"
      },
      "source": [
        "# List comprehension\n",
        "y = [item for item in x if item > 2]\n",
        "print (y)"
      ],
      "execution_count": 37,
      "outputs": [
        {
          "output_type": "stream",
          "name": "stdout",
          "text": [
            "[3, 4, 5]\n"
          ]
        }
      ]
    },
    {
      "cell_type": "code",
      "metadata": {
        "colab": {
          "base_uri": "https://localhost:8080/"
        },
        "id": "V_E59A9Io1cz",
        "outputId": "793f6b91-39e0-405a-852a-33f2f0bdc792"
      },
      "source": [
        "# Nested for loops\n",
        "words = [[\"Am\", \"ate\", \"ATOM\", \"apple\"], [\"bE\", \"boy\", \"ball\", \"bloom\"]]\n",
        "small_words = []\n",
        "for letter_list in words:\n",
        "    for word in letter_list:\n",
        "        if len(word) < 3:\n",
        "            small_words.append(word.lower())\n",
        "print (small_words)"
      ],
      "execution_count": 38,
      "outputs": [
        {
          "output_type": "stream",
          "name": "stdout",
          "text": [
            "['am', 'be']\n"
          ]
        }
      ]
    },
    {
      "cell_type": "markdown",
      "metadata": {
        "id": "SHcly_8zwyCW"
      },
      "source": [
        "The list comprehension involves just directly copying the statements from the nested for loop from top to bottom!"
      ]
    },
    {
      "cell_type": "code",
      "metadata": {
        "colab": {
          "base_uri": "https://localhost:8080/"
        },
        "id": "YyKnHhiso1fg",
        "outputId": "9ad762e2-0bb5-460c-ad55-dac5eef51f4a"
      },
      "source": [
        "# List comprehension\n",
        "small_words = [word.lower() for letter_list in words for word in letter_list if len(word) < 3]\n",
        "print (small_words)"
      ],
      "execution_count": 39,
      "outputs": [
        {
          "output_type": "stream",
          "name": "stdout",
          "text": [
            "['am', 'be']\n"
          ]
        }
      ]
    },
    {
      "cell_type": "markdown",
      "metadata": {
        "id": "gJw-EDO9WBL_"
      },
      "source": [
        "# Functions"
      ]
    },
    {
      "cell_type": "markdown",
      "metadata": {
        "id": "hDIOUdWCqBwa"
      },
      "source": [
        "Functions are a way to modularize reusable pieces of code. They're defined by the keyword `def` which stands for definition and they can have the following components.\n",
        "\n",
        "<div align=\"left\">\n",
        "<img src=\"https://raw.githubusercontent.com/GokuMohandas/MadeWithML/main/images/foundations/python/functions.png\" width=\"350\">\n",
        "</div>"
      ]
    },
    {
      "cell_type": "code",
      "metadata": {
        "id": "iin1ZXmMqA0y"
      },
      "source": [
        "# Define the function\n",
        "def add_two(x):\n",
        "    \"\"\"Increase x by 2.\"\"\" # explains what this function will do\n",
        "    x += 2\n",
        "    return x"
      ],
      "execution_count": 41,
      "outputs": []
    },
    {
      "cell_type": "markdown",
      "metadata": {
        "id": "OIf2dJ8RGj8l"
      },
      "source": [
        "Here are the components that may be required when we want to use the function. we need to ensure that the function name and the input parameters match with how we defined the function above.\n",
        "\n",
        "<div align=\"left\">\n",
        "<img src=\"https://raw.githubusercontent.com/GokuMohandas/MadeWithML/main/images/foundations/python/calling_functions.png\" width=\"350\">\n",
        "</div>"
      ]
    },
    {
      "cell_type": "code",
      "metadata": {
        "id": "4ye1A5FobAUd",
        "colab": {
          "base_uri": "https://localhost:8080/"
        },
        "outputId": "2bf7d539-d796-4a09-abbf-0629fa018bf9"
      },
      "source": [
        "# Use the function\n",
        "score = 0\n",
        "new_score = add_two(x=score)\n",
        "print (new_score)"
      ],
      "execution_count": 42,
      "outputs": [
        {
          "output_type": "stream",
          "name": "stdout",
          "text": [
            "2\n"
          ]
        }
      ]
    },
    {
      "cell_type": "markdown",
      "metadata": {
        "id": "5kpEiTUZqMax"
      },
      "source": [
        "A function can have as many input parameters and outputs as we want."
      ]
    },
    {
      "cell_type": "code",
      "metadata": {
        "id": "DC6x3DMrqlE3"
      },
      "source": [
        "# Function with multiple inputs\n",
        "def join_name(first_name, last_name):\n",
        "    \"\"\"Combine first name and last name.\"\"\"\n",
        "    joined_name = first_name + \" \" + last_name\n",
        "    return joined_name"
      ],
      "execution_count": 43,
      "outputs": []
    },
    {
      "cell_type": "code",
      "metadata": {
        "id": "ehc8bNoGbBt8",
        "colab": {
          "base_uri": "https://localhost:8080/"
        },
        "outputId": "9f13290a-7dd3-4375-b79b-1f7c6f007d42"
      },
      "source": [
        "# Use the function\n",
        "first_name = \"Goku\"\n",
        "last_name = \"Mohandas\"\n",
        "joined_name = join_name(first_name=first_name, \n",
        "                        last_name=last_name)\n",
        "print (joined_name)"
      ],
      "execution_count": 44,
      "outputs": [
        {
          "output_type": "stream",
          "name": "stdout",
          "text": [
            "Goku Mohandas\n"
          ]
        }
      ]
    },
    {
      "cell_type": "markdown",
      "metadata": {
        "id": "x3_7Qv91Gjua"
      },
      "source": [
        "> It's good practice to always use keyword argument when using a function so that it's very clear what input variable belongs to what function input parameter. On a related note, you will often see the terms `*args` and `**kwargs` which stand for arguments and keyword arguments. You can extract them when they are passed into a function. The significance of the `*` is that any number of arguments and keyword arguments can be passed into the function."
      ]
    },
    {
      "cell_type": "code",
      "metadata": {
        "id": "XHhaCfFaHSVo"
      },
      "source": [
        "def f(*args, **kwargs):\n",
        "    x = args[0]\n",
        "    y = kwargs.get(\"y\")\n",
        "    print (f\"x: {x}, y: {y}\")"
      ],
      "execution_count": 45,
      "outputs": []
    },
    {
      "cell_type": "code",
      "metadata": {
        "id": "ZRB9msy0HmR_",
        "colab": {
          "base_uri": "https://localhost:8080/"
        },
        "outputId": "1166119c-768e-4f57-c8e2-da5e6925193b"
      },
      "source": [
        "f(5, y=2)"
      ],
      "execution_count": 46,
      "outputs": [
        {
          "output_type": "stream",
          "name": "stdout",
          "text": [
            "x: 5, y: 2\n"
          ]
        }
      ]
    },
    {
      "cell_type": "markdown",
      "metadata": {
        "id": "lBLa1n54WEd2"
      },
      "source": [
        "# Classes"
      ]
    },
    {
      "cell_type": "markdown",
      "metadata": {
        "id": "mGua8QnArAZh"
      },
      "source": [
        "Classes are object constructors and are a fundamental component of object oriented programming in Python. They are composed of a set of functions that define the class and it's operations."
      ]
    },
    {
      "cell_type": "markdown",
      "metadata": {
        "id": "CypuBBQyRv8s"
      },
      "source": [
        "### `__init__` function"
      ]
    },
    {
      "cell_type": "markdown",
      "metadata": {
        "id": "Hrx2bKTXR4E3"
      },
      "source": [
        "The `__init__` function is used when an instance of the class is initialized. "
      ]
    },
    {
      "cell_type": "code",
      "metadata": {
        "id": "DXmPwI1frAAd"
      },
      "source": [
        "# Creating the class\n",
        "class Pet(object):\n",
        "    \"\"\"Class object for a pet.\"\"\"\n",
        "    \n",
        "    def __init__(self, species, name):\n",
        "        \"\"\"Initialize a Pet.\"\"\"\n",
        "        self.species = species\n",
        "        self.name = name"
      ],
      "execution_count": 47,
      "outputs": []
    },
    {
      "cell_type": "code",
      "metadata": {
        "id": "j5F4XmFQSfVr",
        "colab": {
          "base_uri": "https://localhost:8080/"
        },
        "outputId": "34569e5c-ebfd-48dc-fab6-32805bce4078"
      },
      "source": [
        "# Creating an instance of a class\n",
        "my_dog = Pet(species=\"dog\", \n",
        "             name=\"Scooby\")\n",
        "print (my_dog)\n",
        "print (my_dog.name)"
      ],
      "execution_count": 48,
      "outputs": [
        {
          "output_type": "stream",
          "name": "stdout",
          "text": [
            "<__main__.Pet object at 0x7f73409f7590>\n",
            "Scooby\n"
          ]
        }
      ]
    },
    {
      "cell_type": "markdown",
      "metadata": {
        "id": "6ZVfBXNISUBR"
      },
      "source": [
        "### `__str__` function"
      ]
    },
    {
      "cell_type": "markdown",
      "metadata": {
        "id": "8q6oiWHQSqOo"
      },
      "source": [
        "The `print (my_dog)` command printed something not so relevant to us. Let's fix that with the `__str__` function."
      ]
    },
    {
      "cell_type": "code",
      "metadata": {
        "id": "N1_RDVo9Ruhf"
      },
      "source": [
        "# Creating the class\n",
        "class Pet(object):\n",
        "    \"\"\"Class object for a pet.\"\"\"\n",
        "  \n",
        "    def __init__(self, species, name):\n",
        "        \"\"\"Initialize a Pet.\"\"\"\n",
        "        self.species = species\n",
        "        self.name = name\n",
        " \n",
        "    def __str__(self):\n",
        "        \"\"\"Output when printing an instance of a Pet.\"\"\"\n",
        "        return f\"{self.species} named {self.name}\""
      ],
      "execution_count": 49,
      "outputs": []
    },
    {
      "cell_type": "code",
      "metadata": {
        "id": "vQeU2yScSkW7",
        "colab": {
          "base_uri": "https://localhost:8080/"
        },
        "outputId": "d3893639-7a0a-4a39-964e-98d972e64192"
      },
      "source": [
        "# Creating an instance of a class\n",
        "my_dog = Pet(species=\"dog\", \n",
        "             name=\"Scooby\")\n",
        "print (my_dog)\n",
        "print (my_dog.name)"
      ],
      "execution_count": 50,
      "outputs": [
        {
          "output_type": "stream",
          "name": "stdout",
          "text": [
            "dog named Scooby\n",
            "Scooby\n"
          ]
        }
      ]
    },
    {
      "cell_type": "markdown",
      "metadata": {
        "id": "luB-RBMXK_rL"
      },
      "source": [
        "> Classes can be customized with **magic** functions like `__init__` and `__str__`, to enable powerful operations. We'll be exploring additional built-in functions in subsequent notebooks (like `__len__`, `__iter__` and `__getitem__`, etc.) but if you're curious, here is a [tutorial](https://rszalski.github.io/magicmethods/) on more magic methods."
      ]
    },
    {
      "cell_type": "markdown",
      "metadata": {
        "id": "LaTaBd8jSYuy"
      },
      "source": [
        "### Object methods"
      ]
    },
    {
      "cell_type": "code",
      "metadata": {
        "id": "Vz95DOFjSY3s"
      },
      "source": [
        "# Creating the class\n",
        "class Pet(object):\n",
        "    \"\"\"Class object for a pet.\"\"\"\n",
        "  \n",
        "    def __init__(self, species, name):\n",
        "        \"\"\"Initialize a Pet.\"\"\"\n",
        "        self.species = species\n",
        "        self.name = name\n",
        " \n",
        "    def __str__(self):\n",
        "        \"\"\"Output when printing an instance of a Pet.\"\"\"\n",
        "        return f\"{self.species} named {self.name}\"\n",
        "        \n",
        "    def change_name(self, new_name):\n",
        "        \"\"\"Change the name of your Pet.\"\"\"\n",
        "        self.name = new_name"
      ],
      "execution_count": 51,
      "outputs": []
    },
    {
      "cell_type": "code",
      "metadata": {
        "id": "ezQq_Fhhrqrv",
        "colab": {
          "base_uri": "https://localhost:8080/"
        },
        "outputId": "60988efc-8232-43c9-c6d4-ee8568e0a61c"
      },
      "source": [
        "# Creating an instance of a class\n",
        "my_dog = Pet(species=\"dog\", name=\"Scooby\")\n",
        "print (my_dog)\n",
        "print (my_dog.name)"
      ],
      "execution_count": 52,
      "outputs": [
        {
          "output_type": "stream",
          "name": "stdout",
          "text": [
            "dog named Scooby\n",
            "Scooby\n"
          ]
        }
      ]
    },
    {
      "cell_type": "code",
      "metadata": {
        "id": "qTinlRj1szc5",
        "colab": {
          "base_uri": "https://localhost:8080/"
        },
        "outputId": "1c918351-ff34-42b5-d5b0-b51054b8112f"
      },
      "source": [
        "# Using a class's function\n",
        "my_dog.change_name(new_name=\"Scrappy\")\n",
        "print (my_dog)\n",
        "print (my_dog.name)"
      ],
      "execution_count": 53,
      "outputs": [
        {
          "output_type": "stream",
          "name": "stdout",
          "text": [
            "dog named Scrappy\n",
            "Scrappy\n"
          ]
        }
      ]
    },
    {
      "cell_type": "markdown",
      "metadata": {
        "id": "wRcOLRK3TlEO"
      },
      "source": [
        "### Inheritance"
      ]
    },
    {
      "cell_type": "markdown",
      "metadata": {
        "id": "wR1lyaGwWAcR"
      },
      "source": [
        "Notice how we inherited the initialized variables from the parent `Pet` class like species and name. We also inherited functions such as `change_name()`."
      ]
    },
    {
      "cell_type": "code",
      "metadata": {
        "id": "TaDN2qwBTm7_"
      },
      "source": [
        "class Dog(Pet):\n",
        "    def __init__(self, name, breed):\n",
        "        super().__init__(species=\"dog\", name=name)\n",
        "        self.breed = breed\n",
        "    \n",
        "    def __str__(self):\n",
        "        return f\"A {self.breed} doggo named {self.name}\""
      ],
      "execution_count": 54,
      "outputs": []
    },
    {
      "cell_type": "markdown",
      "metadata": {
        "id": "FxXhC_-1dABE"
      },
      "source": [
        "As you can see, both our parent class (`Pet`) and the child class (`Dog`) have different `__str__` functions defined but share the same function name. The child class inherits everything from the parent classes but when there is conflict between function names, the child class' functions take precedence and overwrite the parent class' functions."
      ]
    },
    {
      "cell_type": "code",
      "metadata": {
        "id": "tKxWHokkT-RI",
        "colab": {
          "base_uri": "https://localhost:8080/"
        },
        "outputId": "dad80108-0945-4375-d644-d34d72680f63"
      },
      "source": [
        "scooby = Dog(breed=\"Great Dane\", name=\"Scooby\")\n",
        "print (scooby)"
      ],
      "execution_count": 55,
      "outputs": [
        {
          "output_type": "stream",
          "name": "stdout",
          "text": [
            "A Great Dane doggo named Scooby\n"
          ]
        }
      ]
    },
    {
      "cell_type": "code",
      "metadata": {
        "id": "YLF_tw5mVFO9",
        "colab": {
          "base_uri": "https://localhost:8080/"
        },
        "outputId": "2022ae1e-f8a8-421a-a526-d691ea623cb7"
      },
      "source": [
        "scooby.change_name(\"Scooby Doo\")\n",
        "print (scooby)"
      ],
      "execution_count": 56,
      "outputs": [
        {
          "output_type": "stream",
          "name": "stdout",
          "text": [
            "A Great Dane doggo named Scooby Doo\n"
          ]
        }
      ]
    },
    {
      "cell_type": "markdown",
      "metadata": {
        "id": "B-XNM5_37842"
      },
      "source": [
        "### Methods"
      ]
    },
    {
      "cell_type": "markdown",
      "metadata": {
        "id": "pvqSxZn57_2-"
      },
      "source": [
        "There are two important decorator methods to know about when it comes to classes: `@classmethod` and `@staticmethod`. We'll learn about decorators in the next section below but these specific methods pertain to classes so we'll cover them here."
      ]
    },
    {
      "cell_type": "code",
      "metadata": {
        "id": "fdoi3R7z8QJw"
      },
      "source": [
        "class Dog(Pet):\n",
        "    def __init__(self, name, breed):\n",
        "        super().__init__(species=\"dog\", name=name)\n",
        "        self.breed = breed\n",
        "    \n",
        "    def __str__(self):\n",
        "        return f\"{self.breed} named {self.name}\"\n",
        "\n",
        "    @classmethod\n",
        "    def from_dict(cls, d):\n",
        "        return cls(name=d[\"name\"], breed=d[\"breed\"])\n",
        "\n",
        "    @staticmethod\n",
        "    def is_cute(breed):\n",
        "        return True  # all animaals are cute!"
      ],
      "execution_count": 58,
      "outputs": []
    },
    {
      "cell_type": "markdown",
      "metadata": {
        "id": "6lXOkrAI-IuJ"
      },
      "source": [
        "A `@classmethod` allows us to create class instances by passing in the uninstantiated class itself (`cls`). This is a great way to create (or load) classes from objects (ie. dictionaries). "
      ]
    },
    {
      "cell_type": "code",
      "metadata": {
        "id": "kPgWwVBu8_ro",
        "colab": {
          "base_uri": "https://localhost:8080/"
        },
        "outputId": "2e743ca9-a36e-4ed7-a465-d16482d40ecf"
      },
      "source": [
        "# Create instance\n",
        "d = {\"name\": \"Cassie\", \"breed\": \"Border Collie\"}\n",
        "cassie = Dog.from_dict(d=d)\n",
        "print(cassie)"
      ],
      "execution_count": 59,
      "outputs": [
        {
          "output_type": "stream",
          "name": "stdout",
          "text": [
            "Border Collie named Cassie\n"
          ]
        }
      ]
    },
    {
      "cell_type": "markdown",
      "metadata": {
        "id": "LEhGQqU79-MO"
      },
      "source": [
        "A `@staticmethod` can be called from an uninstantiated class object so we can do things like this:"
      ]
    },
    {
      "cell_type": "code",
      "metadata": {
        "id": "9PdglAwa8_uG",
        "colab": {
          "base_uri": "https://localhost:8080/"
        },
        "outputId": "0bd78f36-6aad-41ed-a7b6-669a59dc97ba"
      },
      "source": [
        "# Static method\n",
        "Dog.is_cute(breed=\"Border Collie\")"
      ],
      "execution_count": 60,
      "outputs": [
        {
          "output_type": "execute_result",
          "data": {
            "text/plain": [
              "True"
            ]
          },
          "metadata": {},
          "execution_count": 60
        }
      ]
    },
    {
      "cell_type": "markdown",
      "metadata": {
        "id": "nv5ja3dEtfJN"
      },
      "source": [
        "# Decorators"
      ]
    },
    {
      "cell_type": "markdown",
      "metadata": {
        "id": "8aSOSxkSw8lu"
      },
      "source": [
        "Recall that functions allow us to modularize code and reuse them. However, we'll often want to add some functionality before or after the main function executes and we may want to do this for many different functions. Instead of adding more code to the original function, we can use decorators!\n",
        "\n",
        "*    **decorators**: augment a function with pre/post-processing. Decorators wrap around the main function and allow us to operate on the inputs and or outputs."
      ]
    },
    {
      "cell_type": "markdown",
      "metadata": {
        "id": "-AdOBNG7FGJB"
      },
      "source": [
        "Suppose we have a function called `operations` which increments the input value x by 1."
      ]
    },
    {
      "cell_type": "code",
      "metadata": {
        "id": "B-JYWOyP1ekZ"
      },
      "source": [
        "def operations(x):\n",
        "    \"\"\"Basic operations.\"\"\"\n",
        "    x += 1\n",
        "    return x"
      ],
      "execution_count": 61,
      "outputs": []
    },
    {
      "cell_type": "code",
      "metadata": {
        "id": "XD6oY_8C1en8",
        "colab": {
          "base_uri": "https://localhost:8080/"
        },
        "outputId": "6cbcee25-fa89-40e4-aa67-e69d0e40801e"
      },
      "source": [
        "operations(x=1)"
      ],
      "execution_count": 62,
      "outputs": [
        {
          "output_type": "execute_result",
          "data": {
            "text/plain": [
              "2"
            ]
          },
          "metadata": {},
          "execution_count": 62
        }
      ]
    },
    {
      "cell_type": "markdown",
      "metadata": {
        "id": "LbAeHmc91iq-"
      },
      "source": [
        "Now let's say we want to increment our input x by 1 before and after the `operations` function executes and, to illustrate this example, let's say the increments have to be separate steps. Here's how we would do it by changing the original code:"
      ]
    },
    {
      "cell_type": "code",
      "metadata": {
        "id": "_zZMfUHq7xuv"
      },
      "source": [
        "def operations(x):\n",
        "    \"\"\"Basic operations.\"\"\"\n",
        "    x += 1 \n",
        "    x += 1\n",
        "    x += 1\n",
        "    return x"
      ],
      "execution_count": 63,
      "outputs": []
    },
    {
      "cell_type": "code",
      "metadata": {
        "id": "43BhH51m73Kf",
        "colab": {
          "base_uri": "https://localhost:8080/"
        },
        "outputId": "d94be82b-bdfe-4d9f-8b31-8061b9b8c409"
      },
      "source": [
        "operations(x=1)"
      ],
      "execution_count": 64,
      "outputs": [
        {
          "output_type": "execute_result",
          "data": {
            "text/plain": [
              "4"
            ]
          },
          "metadata": {},
          "execution_count": 64
        }
      ]
    },
    {
      "cell_type": "markdown",
      "metadata": {
        "id": "dIorZSTM72h-"
      },
      "source": [
        "We were able to achieve what we want but we now increased the size of our `operations` function and if we want to do the same incrementing for any other function, we have to add the same code to all of those as well ... not very efficient. To solve this, let's create a decorator called `add` which increments `x` by 1 before and after the main function `f` executes."
      ]
    },
    {
      "cell_type": "markdown",
      "metadata": {
        "id": "kvMbqzW5cikA"
      },
      "source": [
        "### Creating a decorator function"
      ]
    },
    {
      "cell_type": "markdown",
      "metadata": {
        "id": "RFReNETpci1M"
      },
      "source": [
        "The decorator function accepts a function `f` which is the function we wish to wrap around, in our case, it's `operations()`. The output of the decorator is its `wrapper` function which receives the arguments and keyword arguments passed to function `f`.\n",
        "\n",
        "Inside the `wrapper` function, we can:\n",
        "1. extract the input parameters passed to function `f`.\n",
        "2. make any changes we want to the function inputs.\n",
        "3. function `f` is executed\n",
        "4. make any changes to the function outputs\n",
        "5. `wrapper` function returns some value(s), which is what the decorator returns as well since it returns `wrapper`."
      ]
    },
    {
      "cell_type": "code",
      "metadata": {
        "id": "6Lf7Ixrasiby"
      },
      "source": [
        "# Decorator\n",
        "def add(f):\n",
        "    def wrapper(*args, **kwargs):\n",
        "        \"\"\"Wrapper function for @add.\"\"\"\n",
        "        x = kwargs.pop(\"x\") # .get() if not altering x\n",
        "        x += 1 # executes before function f\n",
        "        x = f(*args, **kwargs, x=x)\n",
        "        x += 1 # executes after function f\n",
        "        return x\n",
        "    return wrapper"
      ],
      "execution_count": 65,
      "outputs": []
    },
    {
      "cell_type": "markdown",
      "metadata": {
        "id": "uVPWm6yfAmk9"
      },
      "source": [
        "We can use this decorator by simply adding it to the top of our main function preceded by the `@` symbol. "
      ]
    },
    {
      "cell_type": "code",
      "metadata": {
        "id": "CY2Vtxv9sih6"
      },
      "source": [
        "@add\n",
        "def operations(x):\n",
        "    \"\"\"Basic operations.\"\"\"\n",
        "    x += 1\n",
        "    return x"
      ],
      "execution_count": 66,
      "outputs": []
    },
    {
      "cell_type": "code",
      "metadata": {
        "id": "-BhmFvkJsifJ",
        "colab": {
          "base_uri": "https://localhost:8080/"
        },
        "outputId": "b3c9dfa0-2300-4686-ba6d-d03cede29aa9"
      },
      "source": [
        "operations(x=1)"
      ],
      "execution_count": 67,
      "outputs": [
        {
          "output_type": "execute_result",
          "data": {
            "text/plain": [
              "4"
            ]
          },
          "metadata": {},
          "execution_count": 67
        }
      ]
    },
    {
      "cell_type": "markdown",
      "metadata": {
        "id": "rX4Ag4ryArQl"
      },
      "source": [
        "Suppose we wanted to debug and see what function actually executed with `operations()`. "
      ]
    },
    {
      "cell_type": "code",
      "metadata": {
        "id": "LsDkTSz6siZG",
        "colab": {
          "base_uri": "https://localhost:8080/"
        },
        "outputId": "71521d67-c296-4de6-c831-2cf4056d3026"
      },
      "source": [
        "operations.__name__, operations.__doc__"
      ],
      "execution_count": 68,
      "outputs": [
        {
          "output_type": "execute_result",
          "data": {
            "text/plain": [
              "('wrapper', 'Wrapper function for @add.')"
            ]
          },
          "metadata": {},
          "execution_count": 68
        }
      ]
    },
    {
      "cell_type": "markdown",
      "metadata": {
        "id": "G9Rd1PrjA5d9"
      },
      "source": [
        "The function name and docstring are not what we're looking for but it appears this way because the `wrapper` function is what was executed. In order to fix this, Python offers `functools.wraps` which carries the main function's metadata. "
      ]
    },
    {
      "cell_type": "code",
      "metadata": {
        "id": "AtyQ8qb_upnc"
      },
      "source": [
        "from functools import wraps"
      ],
      "execution_count": 69,
      "outputs": []
    },
    {
      "cell_type": "code",
      "metadata": {
        "id": "ggp95rl4uuKW"
      },
      "source": [
        "# Decorator\n",
        "def add(f):\n",
        "    @wraps(f)\n",
        "    def wrap(*args, **kwargs):\n",
        "        \"\"\"Wrapper function for @add.\"\"\"\n",
        "        x = kwargs.pop(\"x\") \n",
        "        x += 1\n",
        "        x = f(*args, **kwargs, x=x)\n",
        "        x += 1\n",
        "        return x\n",
        "    return wrap"
      ],
      "execution_count": 70,
      "outputs": []
    },
    {
      "cell_type": "code",
      "metadata": {
        "id": "GvWdFV5XuuPn"
      },
      "source": [
        "@add\n",
        "def operations(x):\n",
        "    \"\"\"Basic operations.\"\"\"\n",
        "    x += 1\n",
        "    return x"
      ],
      "execution_count": 71,
      "outputs": []
    },
    {
      "cell_type": "code",
      "metadata": {
        "id": "90Za5Wb0uuNl",
        "colab": {
          "base_uri": "https://localhost:8080/"
        },
        "outputId": "1f475088-05a2-4e25-81e1-9bb21cb6f190"
      },
      "source": [
        "operations.__name__, operations.__doc__"
      ],
      "execution_count": 72,
      "outputs": [
        {
          "output_type": "execute_result",
          "data": {
            "text/plain": [
              "('operations', 'Basic operations.')"
            ]
          },
          "metadata": {},
          "execution_count": 72
        }
      ]
    },
    {
      "cell_type": "markdown",
      "metadata": {
        "id": "aDR_uPXHBiIR"
      },
      "source": [
        "Awesome! We were able to decorate our main function `operation()` to achieve the customization we wanted without actually altering the function. We can reuse our decorator for other functions that may need the same customization!\n",
        "\n",
        "> This was a dummy example to show how decorators work but we'll be using them heavily during our [MLOps](https://madewithml.com/#mlops) lessons. A simple scenario would be using decorators to create uniform JSON responses from each API endpoint without including the bulky code in each endpoint."
      ]
    },
    {
      "cell_type": "markdown",
      "metadata": {
        "id": "__HvzfLUB_qK"
      },
      "source": [
        "# Callbacks"
      ]
    },
    {
      "cell_type": "markdown",
      "metadata": {
        "id": "46RnJdMZCDT3"
      },
      "source": [
        "Decorators allow for customized operations before and after the main function's execution but what about in between? Suppose we want to conditionally/situationally do some operations. Instead of writing a whole bunch of if-statements and make our functions bulky, we can use callbacks!\n",
        "\n",
        "*   **callbacks**: conditional/situational processing within the function."
      ]
    },
    {
      "cell_type": "markdown",
      "metadata": {
        "id": "_QEMtyB3FK34"
      },
      "source": [
        "Our callbacks will be classes that have functions with key names that will execute at various periods during the main function's execution. The function names are up to us but we need to invoke the same callback functions within our main function."
      ]
    },
    {
      "cell_type": "code",
      "metadata": {
        "id": "YUfpcY11uplW"
      },
      "source": [
        "# Callback\n",
        "class x_tracker(object):\n",
        "    def __init__(self, x):\n",
        "        self.history = []\n",
        "    def at_start(self, x):\n",
        "        self.history.append(x)\n",
        "    def at_end(self, x):\n",
        "        self.history.append(x)"
      ],
      "execution_count": 73,
      "outputs": []
    },
    {
      "cell_type": "markdown",
      "metadata": {
        "id": "9hphXr9hC0Us"
      },
      "source": [
        "We can pass in as many callbacks as we want and because they have appropriately named functions, they will be invoked at the appropriate times. "
      ]
    },
    {
      "cell_type": "code",
      "metadata": {
        "id": "F3XFote_CzlA"
      },
      "source": [
        "def operations(x, callbacks=[]):\n",
        "    \"\"\"Basic operations.\"\"\"\n",
        "    for callback in callbacks:\n",
        "        callback.at_start(x)\n",
        "    x += 1\n",
        "    for callback in callbacks:\n",
        "        callback.at_end(x)\n",
        "    return x"
      ],
      "execution_count": 74,
      "outputs": []
    },
    {
      "cell_type": "code",
      "metadata": {
        "id": "d_QV5MZNDILI",
        "colab": {
          "base_uri": "https://localhost:8080/"
        },
        "outputId": "e2447aed-c4b4-4081-a854-ce3adf832212"
      },
      "source": [
        "x = 1\n",
        "tracker = x_tracker(x=x)\n",
        "operations(x=x, callbacks=[tracker])"
      ],
      "execution_count": 75,
      "outputs": [
        {
          "output_type": "execute_result",
          "data": {
            "text/plain": [
              "2"
            ]
          },
          "metadata": {},
          "execution_count": 75
        }
      ]
    },
    {
      "cell_type": "code",
      "metadata": {
        "id": "j0RZ90HoDMbx",
        "colab": {
          "base_uri": "https://localhost:8080/"
        },
        "outputId": "12d782d4-9707-4b10-94e7-7596d181e366"
      },
      "source": [
        "tracker.history"
      ],
      "execution_count": 76,
      "outputs": [
        {
          "output_type": "execute_result",
          "data": {
            "text/plain": [
              "[1, 2]"
            ]
          },
          "metadata": {},
          "execution_count": 76
        }
      ]
    },
    {
      "cell_type": "markdown",
      "metadata": {
        "id": "ET1f4aleDYWZ"
      },
      "source": [
        "# Putting it all together"
      ]
    },
    {
      "cell_type": "markdown",
      "metadata": {
        "id": "V52b86DxDbux"
      },
      "source": [
        "decorators + callbacks = powerful customization *before*, *during* and *after* the main function’s execution without increasing its complexity. We will be using this duo to create powerful ML training scripts that are highly customizable in future lessons."
      ]
    },
    {
      "cell_type": "code",
      "metadata": {
        "id": "BEeYY6QHEsE-"
      },
      "source": [
        "from functools import wraps"
      ],
      "execution_count": 77,
      "outputs": []
    },
    {
      "cell_type": "code",
      "metadata": {
        "id": "NPcjeVOkEsLC"
      },
      "source": [
        "# Decorator\n",
        "def add(f):\n",
        "    @wraps(f)\n",
        "    def wrap(*args, **kwargs):\n",
        "        \"\"\"Wrapper function for @add.\"\"\"\n",
        "        x = kwargs.pop(\"x\") # .get() if not altering x\n",
        "        x += 1 # executes before function f\n",
        "        x = f(*args, **kwargs, x=x)\n",
        "        # can do things post function f as well\n",
        "        return x\n",
        "    return wrap"
      ],
      "execution_count": 78,
      "outputs": []
    },
    {
      "cell_type": "code",
      "metadata": {
        "id": "rBPVInWfEsIk"
      },
      "source": [
        "# Callback\n",
        "class x_tracker(object):\n",
        "    def __init__(self, x):\n",
        "        self.history = [x]\n",
        "    def at_start(self, x):\n",
        "        self.history.append(x)\n",
        "    def at_end(self, x):\n",
        "        self.history.append(x)"
      ],
      "execution_count": 79,
      "outputs": []
    },
    {
      "cell_type": "code",
      "metadata": {
        "id": "Px0vMT9gFcyp"
      },
      "source": [
        "# Main function\n",
        "@add\n",
        "def operations(x, callbacks=[]):\n",
        "    \"\"\"Basic operations.\"\"\"\n",
        "    for callback in callbacks:\n",
        "        callback.at_start(x)\n",
        "    x += 1\n",
        "    for callback in callbacks:\n",
        "        callback.at_end(x)\n",
        "    return x"
      ],
      "execution_count": 80,
      "outputs": []
    },
    {
      "cell_type": "code",
      "metadata": {
        "id": "0AhGDNPWFc4i",
        "colab": {
          "base_uri": "https://localhost:8080/"
        },
        "outputId": "d0951c75-9f9e-4813-9ce1-2c9405b0d2af"
      },
      "source": [
        "x = 1\n",
        "tracker = x_tracker(x=x)\n",
        "operations(x=x, callbacks=[tracker])"
      ],
      "execution_count": 81,
      "outputs": [
        {
          "output_type": "execute_result",
          "data": {
            "text/plain": [
              "3"
            ]
          },
          "metadata": {},
          "execution_count": 81
        }
      ]
    },
    {
      "cell_type": "code",
      "metadata": {
        "id": "ajyUN2y0Fc2E",
        "colab": {
          "base_uri": "https://localhost:8080/"
        },
        "outputId": "c3889699-9f65-4f9d-b411-b06a2d213620"
      },
      "source": [
        "tracker.history"
      ],
      "execution_count": 82,
      "outputs": [
        {
          "output_type": "execute_result",
          "data": {
            "text/plain": [
              "[1, 2, 3]"
            ]
          },
          "metadata": {},
          "execution_count": 82
        }
      ]
    }
  ]
}